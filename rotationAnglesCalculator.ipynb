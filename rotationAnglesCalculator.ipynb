{
 "cells": [
  {
   "cell_type": "code",
   "execution_count": 2,
   "metadata": {},
   "outputs": [
    {
     "name": "stdout",
     "output_type": "stream",
     "text": [
      "Faraday Rotation Angle (in radians) :  2.391064451863334e-06\n",
      "Faraday Rotation Angle (in degrees) :  0.00013699790163553062\n"
     ]
    }
   ],
   "source": [
    "###########################################################################################################\n",
    "# Faraday Rotation Calculator\n",
    "# \n",
    "# To estimate the rotation angle for a particular situation enter the following values below:\n",
    "#      - laserwl : laser wavelength (in cm)\n",
    "#      - opteical_len : optical path length through the cell (in cm)\n",
    "#      - rb_den : approximate rubidium number density\n",
    "# \n",
    "# Note that the resulting angle, b_rotation_magnitude, is given in radians.\n",
    "###########################################################################################################\n",
    "\n",
    "\n",
    "import densityCalculations as calc\n",
    "import numpy as np\n",
    "\n",
    "laserwl = 7.80723E-5 #laser wavelength\n",
    "optical_len = 2.00 #optical length, in cm\n",
    "rb_den = 1E13 #rubidium number density\n",
    "\n",
    "freq = calc.get_laser_f(laserwl)\n",
    "delta_1 = 1/(calc.get_Delta_D1(freq))\n",
    "delta_2 = 1/(calc.get_Delta_D2(freq))\n",
    "delta_term_b = 4*(delta_1**2)+7*(delta_2**2)-2*(delta_1*delta_2)\n",
    "\n",
    "common_factor = (optical_len*calc.q_electron**2)/(6*calc.m_electron*calc.light_speed)\n",
    "b_factor = calc.mu_b/(3*calc.h)\n",
    "\n",
    "b_rotation_magnitude = delta_term_b*common_factor*b_factor*rb_den\n",
    "\n",
    "print('Faraday Rotation Angle (in radians) : ', b_rotation_magnitude)\n",
    "print('Faraday Rotation Angle (in degrees) : ', (b_rotation_magnitude)*(180/np.pi))"
   ]
  },
  {
   "cell_type": "code",
   "execution_count": 8,
   "metadata": {},
   "outputs": [
    {
     "name": "stdout",
     "output_type": "stream",
     "text": [
      "Polarization angle (in radians) :  0.13238702841757424\n",
      "Polarization angle (in degrees) :  7.585217990605497\n"
     ]
    }
   ],
   "source": [
    "###########################################################################################################\n",
    "# Polarization Angle Calculator\n",
    "# \n",
    "# To estimate the rotation angle for a particular situation enter the following values below:\n",
    "#      - laserwl : laser wavelength (in cm)\n",
    "#      - opteical_len : optical path length through the cell (in cm)\n",
    "#      - rb_den : approximate rubidium number density\n",
    "#      - p_rb : the approximate fraction of rubidium that is polarized\n",
    "# \n",
    "# Note that the resulting angle, p_rotation_magnitude, is printed below the cell in radians and in degrees.\n",
    "###########################################################################################################\n",
    "\n",
    "\n",
    "import densityCalculations as calc\n",
    "import numpy as np\n",
    "\n",
    "laserwl = 7.80723E-5 #laser wavelength, in cm\n",
    "optical_len = 2.00 #optical length, in cm\n",
    "rb_den = 1E13 #rubidium number density\n",
    "p_rb = 0.9 #polarization fraction\n",
    "\n",
    "freq = calc.get_laser_f(laserwl)\n",
    "delta_1 = 1/(calc.get_Delta_D1(freq))\n",
    "delta_2 = 1/(calc.get_Delta_D2(freq))\n",
    "delta_term_p = delta_2 - delta_1\n",
    "\n",
    "common_factor = (optical_len*calc.q_electron**2)/(6*calc.m_electron*calc.light_speed)\n",
    "\n",
    "p_rotation_magnitude = delta_term_p*common_factor*rb_den*p_rb\n",
    "\n",
    "print('Polarization angle (in radians) : ', p_rotation_magnitude)\n",
    "print('Polarization angle (in degrees) : ', (p_rotation_magnitude)*(180/np.pi))"
   ]
  },
  {
   "cell_type": "code",
   "execution_count": 11,
   "metadata": {},
   "outputs": [
    {
     "data": {
      "application/vnd.jupyter.widget-view+json": {
       "model_id": "855fc706630d4b0998f31b64e43c732e",
       "version_major": 2,
       "version_minor": 0
      },
      "text/plain": [
       "FloatText(value=7.8e-05, description='Wavelength:')"
      ]
     },
     "metadata": {},
     "output_type": "display_data"
    },
    {
     "data": {
      "application/vnd.jupyter.widget-view+json": {
       "model_id": "626096252f484af382f91e6aa8deb20f",
       "version_major": 2,
       "version_minor": 0
      },
      "text/plain": [
       "FloatText(value=2.0, description='Optical Length:')"
      ]
     },
     "metadata": {},
     "output_type": "display_data"
    },
    {
     "data": {
      "application/vnd.jupyter.widget-view+json": {
       "model_id": "da6bb7aa10b6497daa7be4448f4722e0",
       "version_major": 2,
       "version_minor": 0
      },
      "text/plain": [
       "FloatText(value=10000000000000.0, description='Rb Density:')"
      ]
     },
     "metadata": {},
     "output_type": "display_data"
    },
    {
     "data": {
      "application/vnd.jupyter.widget-view+json": {
       "model_id": "5d9140a4ef8c40ae9f6ca77476317726",
       "version_major": 2,
       "version_minor": 0
      },
      "text/plain": [
       "FloatText(value=0.85, description='% Polarized:')"
      ]
     },
     "metadata": {},
     "output_type": "display_data"
    },
    {
     "data": {
      "application/vnd.jupyter.widget-view+json": {
       "model_id": "fc0681766a2b441dad460fd16af8a86a",
       "version_major": 2,
       "version_minor": 0
      },
      "text/plain": [
       "FloatText(value=1.0, description='External Field:')"
      ]
     },
     "metadata": {},
     "output_type": "display_data"
    },
    {
     "data": {
      "application/vnd.jupyter.widget-view+json": {
       "model_id": "714a946f384b49f6906571242d4772f4",
       "version_major": 2,
       "version_minor": 0
      },
      "text/plain": [
       "Output(layout=Layout(border_bottom='1px solid black', border_left='1px solid black', border_right='1px solid b…"
      ]
     },
     "execution_count": 11,
     "metadata": {},
     "output_type": "execute_result"
    }
   ],
   "source": [
    "from ipywidgets import interact, interactive, fixed, interact_manual\n",
    "import ipywidgets as widgets\n",
    "import densityCalculations as calc\n",
    "import Utilities as util\n",
    "import numpy as np\n",
    "from IPython.display import display\n",
    "\n",
    "\n",
    "def polarizationAngle(wl, ol, p, rb):\n",
    "    label = 'Polarization Angle (degrees): '\n",
    "    freq = calc.get_laser_f(wl)\n",
    "    c = commonFactor(ol)\n",
    "    deltaTermP = deltaP(freq)\n",
    "    pol_ang = (deltaTermP*c*rb*p)*(180/np.pi)\n",
    "    return label, pol_ang\n",
    "\n",
    "def rotationAngle(wl, ol, magField, rb):\n",
    "    label = 'Faraday Rotation Angle (degrees): '\n",
    "    freq = calc.get_laser_f(wl)\n",
    "    c = commonFactor(ol)\n",
    "    deltaTermB = deltaB(freq)\n",
    "    B = bFactor(magField)\n",
    "    far_ang = (deltaTermB*c*rb*B)*(180/np.pi)\n",
    "    return label, far_ang\n",
    "    \n",
    "\n",
    "def commonFactor(opt_len):\n",
    "    cf = (opt_len*calc.q_electron**2)/(6*calc.m_electron*calc.light_speed)\n",
    "    return cf\n",
    "\n",
    "def inv_D1(freq):\n",
    "    inv_delta_1 = 1/(calc.get_Delta_D1(freq))\n",
    "    return inv_delta_1\n",
    "\n",
    "def inv_D2(freq):\n",
    "    inv_delta_2 = 1/(calc.get_Delta_D2(freq))\n",
    "    return inv_delta_2\n",
    "\n",
    "def deltaP(freq):\n",
    "    delta_P_term = inv_D1(freq)-inv_D2(freq)\n",
    "    return delta_P_term\n",
    "\n",
    "def deltaB(freq):\n",
    "    inv_D1_sq = inv_D1(freq)**2\n",
    "    inv_D2_sq = inv_D2(freq)**2\n",
    "    inv_D1D2 = inv_D1(freq)*inv_D2(freq)\n",
    "    delta_B = 4*inv_D1_sq + 7*inv_D2_sq - 2*inv_D1D2\n",
    "    return delta_B\n",
    "\n",
    "def bFactor(bfield):\n",
    "    b = calc.mu_b*bfield/(3*calc.h)\n",
    "    return b\n",
    "\n",
    "\n",
    "#define all my inputs\n",
    "wl=widgets.FloatText(value = 7.80E-5, min=7.79E-5, max =7.81E-5, description='Wavelength:')\n",
    "ol=widgets.FloatText(value=2.00, min = 1.00, max = 3.00, description='Optical Length:')\n",
    "rb = widgets.FloatText(value=1.00E13, min = 1.0E12, max = 1.00E14, description='Rb Density:')\n",
    "p = widgets.FloatText(value=0.85, min = 0.0, max=1.00, description='% Polarized:')\n",
    "magField = widgets.FloatText(value=1.0, min = 0.0, max=50.0, description='External Field:')\n",
    "\n",
    "\n",
    "out = widgets.Output(layout={'border': '1px solid black'})\n",
    "\n",
    "def updateAll(change):\n",
    "    with out: \n",
    "        display(polarizationAngle(wl.value, ol.value, p.value, rb.value))\n",
    "        display(rotationAngle(wl.value, ol.value, magField.value, rb.value))\n",
    "\n",
    "wl.observe(updateAll, 'value')\n",
    "ol.observe(updateAll, 'value')\n",
    "rb.observe(updateAll, 'value')\n",
    "p.observe(updateAll, 'value')\n",
    "magField.observe(updateAll, 'value')\n",
    "\n",
    "display(wl)\n",
    "display(ol)\n",
    "display(rb)\n",
    "display(p)\n",
    "display(magField)\n",
    "out\n",
    "\n",
    "\n"
   ]
  }
 ],
 "metadata": {
  "kernelspec": {
   "display_name": "my_x86_env",
   "language": "python",
   "name": "python3"
  },
  "language_info": {
   "codemirror_mode": {
    "name": "ipython",
    "version": 3
   },
   "file_extension": ".py",
   "mimetype": "text/x-python",
   "name": "python",
   "nbconvert_exporter": "python",
   "pygments_lexer": "ipython3",
   "version": "3.10.11"
  }
 },
 "nbformat": 4,
 "nbformat_minor": 2
}
