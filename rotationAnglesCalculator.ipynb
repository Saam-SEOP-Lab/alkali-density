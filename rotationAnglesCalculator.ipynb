{
 "cells": [
  {
   "cell_type": "code",
   "execution_count": 7,
   "metadata": {},
   "outputs": [
    {
     "name": "stdout",
     "output_type": "stream",
     "text": [
      "Faraday Rotation Angle (in radians) :  2.391064451863334e-06\n",
      "Faraday Rotation Angle (in degrees) :  0.00013699790163553062\n"
     ]
    }
   ],
   "source": [
    "###########################################################################################################\n",
    "# Faraday Rotation Calculator\n",
    "# \n",
    "# To estimate the rotation angle for a particular situation enter the following values below:\n",
    "#      - laserwl : laser wavelength (in cm)\n",
    "#      - opteical_len : optical path length through the cell (in cm)\n",
    "#      - rb_den : approximate rubidium number density\n",
    "# \n",
    "# Note that the resulting angle, b_rotation_magnitude, is given in radians.\n",
    "###########################################################################################################\n",
    "\n",
    "\n",
    "import densityCalculations as calc\n",
    "import numpy as np\n",
    "\n",
    "laserwl = 7.80723E-5 #laser wavelength\n",
    "optical_len = 2.00 #optical length, in cm\n",
    "rb_den = 1E13 #rubidium number density\n",
    "\n",
    "freq = calc.get_laser_f(laserwl)\n",
    "delta_1 = 1/(calc.get_Delta_D1(freq))\n",
    "delta_2 = 1/(calc.get_Delta_D2(freq))\n",
    "delta_term_b = 4*(delta_1**2)+7*(delta_2**2)-2*(delta_1*delta_2)\n",
    "\n",
    "common_factor = (optical_len*calc.q_electron**2)/(6*calc.m_electron*calc.light_speed)\n",
    "b_factor = calc.mu_b/(3*calc.h)\n",
    "\n",
    "b_rotation_magnitude = delta_term_b*common_factor*b_factor*rb_den\n",
    "\n",
    "print('Faraday Rotation Angle (in radians) : ', b_rotation_magnitude)\n",
    "print('Faraday Rotation Angle (in degrees) : ', (b_rotation_magnitude)*(180/np.pi))"
   ]
  },
  {
   "cell_type": "code",
   "execution_count": 8,
   "metadata": {},
   "outputs": [
    {
     "name": "stdout",
     "output_type": "stream",
     "text": [
      "Polarization angle (in radians) :  0.13238702841757424\n",
      "Polarization angle (in degrees) :  7.585217990605497\n"
     ]
    }
   ],
   "source": [
    "###########################################################################################################\n",
    "# Polarization Angle Calculator\n",
    "# \n",
    "# To estimate the rotation angle for a particular situation enter the following values below:\n",
    "#      - laserwl : laser wavelength (in cm)\n",
    "#      - opteical_len : optical path length through the cell (in cm)\n",
    "#      - rb_den : approximate rubidium number density\n",
    "#      - p_rb : the approximate fraction of rubidium that is polarized\n",
    "# \n",
    "# Note that the resulting angle, p_rotation_magnitude, is printed below the cell in radians and in degrees.\n",
    "###########################################################################################################\n",
    "\n",
    "\n",
    "import densityCalculations as calc\n",
    "import numpy as np\n",
    "\n",
    "laserwl = 7.80723E-5 #laser wavelength, in cm\n",
    "optical_len = 2.00 #optical length, in cm\n",
    "rb_den = 1E13 #rubidium number density\n",
    "p_rb = 0.9 #polarization fraction\n",
    "\n",
    "freq = calc.get_laser_f(laserwl)\n",
    "delta_1 = 1/(calc.get_Delta_D1(freq))\n",
    "delta_2 = 1/(calc.get_Delta_D2(freq))\n",
    "delta_term_p = delta_2 - delta_1\n",
    "\n",
    "common_factor = (optical_len*calc.q_electron**2)/(6*calc.m_electron*calc.light_speed)\n",
    "\n",
    "p_rotation_magnitude = delta_term_p*common_factor*rb_den*p_rb\n",
    "\n",
    "print('Polarization angle (in radians) : ', p_rotation_magnitude)\n",
    "print('Polarization angle (in degrees) : ', (p_rotation_magnitude)*(180/np.pi))"
   ]
  }
 ],
 "metadata": {
  "kernelspec": {
   "display_name": "my_x86_env",
   "language": "python",
   "name": "python3"
  },
  "language_info": {
   "codemirror_mode": {
    "name": "ipython",
    "version": 3
   },
   "file_extension": ".py",
   "mimetype": "text/x-python",
   "name": "python",
   "nbconvert_exporter": "python",
   "pygments_lexer": "ipython3",
   "version": "3.10.11"
  }
 },
 "nbformat": 4,
 "nbformat_minor": 2
}
