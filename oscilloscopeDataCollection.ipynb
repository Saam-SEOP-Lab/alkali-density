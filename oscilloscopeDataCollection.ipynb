{
 "cells": [
  {
   "cell_type": "code",
   "execution_count": 60,
   "metadata": {},
   "outputs": [],
   "source": [
    "from ScopeChat import Oscope\n",
    "import densityCalculations as calc\n",
    "import Utilities as util\n",
    "\n",
    "#record experiment variables \n",
    "trial = 5\n",
    "olen = 2.5\n",
    "t = 140\n",
    "power = 0.340\n",
    "laserTemp = 1.400\n",
    "laserwl = 7.80E-5\n",
    "\n",
    "#set timeconstant used on lockin\n",
    "time_const = 3\n",
    "\n",
    "#set the rotation used for calibration (in degrees)\n",
    "calibration_rotation = 0.10\n",
    "\n",
    "#set up scope communication\n",
    "visa_address = 'USB0::0x0699::0x0368::C041014::INSTR'\n",
    "source_channel = 'CH1'\n",
    "my_scope = Oscope(visa_address, 16, source_channel)\n",
    "my_scope.startScope()\n",
    "my_scope.collectionSetUp()\n",
    "\n",
    "#collect a calibration measurement\n",
    "calibration = my_scope.collectCalibrationMeasurement_Verif()\n",
    "#print(calibration)\n",
    "\n",
    "#collect data \n",
    "raw_data = my_scope.collectUntilDone(time_const)\n",
    "\n",
    "#close the channel to the scope once done collecting data\n",
    "my_scope.scopeClose()\n",
    "\n",
    "#save the raw data to a file so I have if as backup\n",
    "filename_raw = 'Data/rawdata.json'\n",
    "raw = util.prepRawDataForFile(raw_data)\n",
    "util.saveDatatoJSON(filename_raw, raw)\n",
    "\n",
    "#calculate conversion factor from calibration measurement\n",
    "conversion_f = calc.calculateRotationConversionFactor(calibration[0], calibration_rotation)\n",
    "\n",
    "#now convert the raw data into analysis and save that to a separate file\n",
    "ds = util.getDateString()\n",
    "filename_converted = 'Data/rotationdata_'+ds+'.json'\n",
    "converted_data = calc.convertRawDataArray(raw_data, conversion_f)\n",
    "converted = util.prepConvertedDataforFile(converted_data, trial, laserwl, 2.5, t,power,conversion_f,laserTemp)\n",
    "util.saveDatatoJSON(filename_converted, converted)"
   ]
  },
  {
   "cell_type": "code",
   "execution_count": 1,
   "metadata": {},
   "outputs": [
    {
     "name": "stdout",
     "output_type": "stream",
     "text": [
      "Data/rotationdata_07052023.json\n"
     ]
    }
   ],
   "source": [
    "import Utilities as util\n",
    "\n",
    "ds = util.getDateString()\n",
    "filename_converted = 'Data/rotationdata_'+ds+'.json'\n",
    "print(filename_converted)\n"
   ]
  }
 ],
 "metadata": {
  "kernelspec": {
   "display_name": "my_x86_env",
   "language": "python",
   "name": "python3"
  },
  "language_info": {
   "codemirror_mode": {
    "name": "ipython",
    "version": 3
   },
   "file_extension": ".py",
   "mimetype": "text/x-python",
   "name": "python",
   "nbconvert_exporter": "python",
   "pygments_lexer": "ipython3",
   "version": "3.10.11"
  },
  "orig_nbformat": 4
 },
 "nbformat": 4,
 "nbformat_minor": 2
}
