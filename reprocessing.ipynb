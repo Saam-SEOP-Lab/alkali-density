{
 "cells": [
  {
   "cell_type": "code",
   "execution_count": 24,
   "metadata": {},
   "outputs": [
    {
     "name": "stdout",
     "output_type": "stream",
     "text": [
      "2.558081446257033e-07\n",
      "8.0263e+11\n",
      "1.2228e+14\n"
     ]
    }
   ],
   "source": [
    "import numpy as np\n",
    "import pandas as pd\n",
    "from scipy.optimize import curve_fit\n",
    "import density_app.functions.utilities as util\n",
    "import density_app.functions.density_calc as calc\n",
    "\n",
    "\n",
    "def get_processed_data(filepath):\n",
    "    data = pd.read_csv(filepath)\n",
    "    x_data = data[\"Magnetic Field (Gauss)\"].to_numpy()\n",
    "    y_data = data[\"Rotation (Radians)\"].to_numpy()\n",
    "    err_STD = data[\"Rotation Standard Deviation\"].to_numpy()\n",
    "    return x_data, y_data, err_STD\n",
    "\n",
    "#returns a linear fit for the specified data\n",
    "#this version uses error values provided for the rotation values\n",
    "def linear_fit_data(x_vals, y_vals, errors):\n",
    "    # line for fitting\n",
    "    def line(x, m):\n",
    "        return x*m\n",
    "    param, param_cov = curve_fit(line, x_vals, y_vals, sigma=errors, absolute_sigma=True)\n",
    "    return param, param_cov\n",
    "\n",
    "def get_density_error(d1, d2, slope, slope_error, probe_beam, probe_error, olen, olen_error):\n",
    "    dtheta = (slope_error/slope)**2\n",
    "    dprobe = (probe_error/probe_beam)**2\n",
    "    dolen = (olen_error/olen)**2\n",
    "    err = dtheta+dprobe+dolen\n",
    "    print(err)\n",
    "    rb_err = calc.rb_density(d1, d2, err, olen, probe_beam)\n",
    "    return rb_err\n",
    "\n",
    "f = \"Data/Density/2024-08-12/2024-08-12_cell-314B_temp-130_trial-1_processed.csv\"\n",
    "\n",
    "x, y, err = get_processed_data(f)\n",
    "\n",
    "slope, vars = linear_fit_data(x,y,err)\n",
    "err_slope = np.sqrt(vars[0][0])\n",
    "#print(slope[0])\n",
    "#pint(vars[0][0])\n",
    "\n",
    "probe = 0.0000780505\n",
    "probe_err = 0.005e-7\n",
    "opt = 3.7\n",
    "opt_err = 0\n",
    "\n",
    "rberr = get_density_error(calc.d1_resonance_lambda, calc.d2_resonance_lambda, slope[0], err_slope, probe, probe_err,opt, opt_err)\n",
    "print(util.formatter(rberr,4))\n",
    "\n",
    "rb = calc.rb_density(calc.d1_resonance_lambda, calc.d2_resonance_lambda, slope[0], opt, probe)\n",
    "print(util.formatter(rb,4))\n",
    "#final_data = pd.DataFrame({'Date': [],\n",
    "#                        'Cell Name': [],\n",
    "#                        'Temperature':[],\n",
    "#                        'Density':[],\n",
    "#                        'Density Error':[], \n",
    "#                        'Killian Value':[] })\n"
   ]
  }
 ],
 "metadata": {
  "kernelspec": {
   "display_name": "env_py312",
   "language": "python",
   "name": "python3"
  },
  "language_info": {
   "codemirror_mode": {
    "name": "ipython",
    "version": 3
   },
   "file_extension": ".py",
   "mimetype": "text/x-python",
   "name": "python",
   "nbconvert_exporter": "python",
   "pygments_lexer": "ipython3",
   "version": "3.12.4"
  }
 },
 "nbformat": 4,
 "nbformat_minor": 2
}
