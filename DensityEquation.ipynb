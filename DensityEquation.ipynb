{
 "cells": [
  {
   "cell_type": "markdown",
   "metadata": {},
   "source": [
    "From Chann et all (2002)\n",
    "\n",
    "$$\n",
    "\\begin{align}\n",
    "  \\tag{1}\n",
    "  \\theta_B = [Rb]B \\left(\\frac{le^2\\mu_B}{6mhc}\\right)\\left(\\frac{1}{3}\\left(\\frac{4}{\\Delta^2_{1/2}}+\\frac{7}{\\Delta^2_{3/2}}-\\frac{2}{\\Delta_{1/2}\\Delta_{3/2}}\\right)-\\frac{h}{k_bT}\\left(\\frac{1}{\\Delta_{1/2}}-\\frac{1}{\\Delta_{3/2}}\\right)\\right)\n",
    "\\end{align}\n",
    "$$\n",
    "\n",
    "* $\\theta_B$ is the Faraday rotation angle\n",
    "* $[Rb]$ is the number density of rubidium\n",
    "* $l$ is the optical path length through the cell\n",
    "* $e$ is the charge of an electron\n",
    "* $\\mu_B$ is the Bohr magneton\n",
    "* $m$ is the mass of an electron\n",
    "* $h$ is Plank's constant\n",
    "* $\\Delta_{1/2} = \\nu_{probe}-\\nu_{1/2}$ where $\\nu_{probe}$ is the frequency of the probe laser and $\\nu_{1/2}$ is the D1 resonance frequency of Rb. \n",
    "* $\\Delta_{3/2} = \\nu_{probe}-\\nu_{3/2}$ where $\\nu_{probe}$ is the frequency of the probe laser and $\\nu_{3/2}$ is the D2 resonance frequency of Rb. \n",
    "* $k_b$ is the Boltzman constant\n",
    "* $T$ is temperature\n",
    "\n",
    "\n"
   ]
  },
  {
   "cell_type": "markdown",
   "metadata": {},
   "source": [
    "We want to convert this to wavelength, $\\nu = \\frac{c}{\\lambda}$ so $\\Delta_{i}$ becomes \n",
    "\n",
    "$$\n",
    "\\begin{align}\n",
    "   \\tag{2}\n",
    "   \\Delta_{i} = \\frac{c}{\\lambda}-\\frac{c}{\\lambda_i} = c\\frac{\\lambda_i-\\lambda}{\\lambda \\lambda_i}\n",
    "\\end{align}\n",
    "$$\n",
    "\n",
    "$$\n",
    "\\begin{align}\n",
    "  \\tag{3}\n",
    "  \\theta_B = [Rb]B \\left(\\frac{le^2\\mu_B}{6mhc}\\right)\\left(\\frac{1}{3c^2}\\left(\\frac{4 \\lambda^2 \\lambda^2_{1/2}}{(\\lambda_{1/2}-\\lambda)^2}+\\frac{7  \\lambda^2 \\lambda^2_{3/2}}{(\\lambda_{3/2}-\\lambda)^2}-\\frac{2\\lambda_{1/2}\\lambda_{3/2}\\lambda^2}{(\\lambda_{1/2}-\\lambda)(\\lambda_{3/2}-\\lambda)}\\right)-\\frac{h}{ck_bT}\\left(\\frac{\\lambda\\lambda_{1/2}}{\\lambda_{1/2}-\\lambda}-\\frac{\\lambda \\lambda_{3/2}}{\\lambda_{3/2}-\\lambda}\\right)\\right)\n",
    "\\end{align}\n",
    "$$\n",
    "\n",
    "Let $(\\lambda_{1/2}-\\lambda)^2 = \\delta_{1/2}$ and $(\\lambda_{3/2}-\\lambda)^2 = \\delta_{3/2}$. Combining terms in the fractions gives\n",
    "\n",
    "$$\n",
    "\\begin{align}\n",
    "  \\tag{4}\n",
    "  \\theta_B = [Rb]B \\left(\\frac{le^2\\mu_B}{6mhc}\\right)\\left(\\frac{\\lambda^2}{3c^2}\\left(\\frac{4 \\lambda^2_{1/2}\\delta_{3/2}^2+7\\lambda^2_{3/2}\\delta_{1/2}^2-2\\lambda_{1/2}\\lambda_{3/2}\\delta_{1/2}\\delta_{3/2}}{\\delta_{1/2}^2\\delta_{3/2}^2}\\right)-\\frac{h\\lambda}{ck_bT}\\left(\\frac{\\lambda_{1/2}\\delta_{3/2}-\\lambda_{3/2}\\delta_{1/2}}{\\delta_{1/2}\\delta_{3/2}}\\right)\\right)\n",
    "\\end{align}\n",
    "$$\n",
    "\n",
    "$$\n",
    "\\begin{align}\n",
    "  \\tag{5}\n",
    "  \\theta_B = [Rb]B \\left(\\frac{le^2\\mu_B}{6mhc}\\right)\\left(\\frac{k_bT\\lambda^2(4 \\lambda^2_{1/2}\\delta_{3/2}^2+7\\lambda^2_{3/2}\\delta_{1/2}^2-2\\lambda_{1/2}\\lambda_{3/2}\\delta_{1/2}\\delta_{3/2})-3hc\\lambda\\delta_{1/2}\\delta_{3/2}(\\lambda_{1/2}\\delta_{3/2}-\\lambda_{3/2}\\delta_{1/2})}{3c^2k_bT\\delta_{1/2}^2\\delta_{3/2}^2}\\right)\n",
    "\\end{align}\n",
    "$$\n",
    "\n",
    "The Rubidium density is then given by \n",
    "\n",
    "$$\n",
    "\\begin{align}\n",
    "  \\tag{5}\n",
    "  [Rb]=\\left(\\frac{\\theta_B}{B}\\right) \\left(\\frac{6mhc}{le^2\\mu_B}\\right)\\left(\\frac{3c^2k_bT\\delta_{1/2}^2\\delta_{3/2}^2}{k_bT\\lambda^2(4 \\lambda^2_{1/2}\\delta_{3/2}^2+7\\lambda^2_{3/2}\\delta_{1/2}^2-2\\lambda_{1/2}\\lambda_{3/2}\\delta_{1/2}\\delta_{3/2})-3hc\\lambda\\delta_{1/2}\\delta_{3/2}(\\lambda_{1/2}\\delta_{3/2}-\\lambda_{3/2}\\delta_{1/2})}\\right)\n",
    "\\end{align}\n",
    "$$"
   ]
  }
 ],
 "metadata": {
  "language_info": {
   "name": "python"
  }
 },
 "nbformat": 4,
 "nbformat_minor": 2
}
